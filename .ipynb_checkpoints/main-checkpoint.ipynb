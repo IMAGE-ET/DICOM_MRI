{
 "cells": [
  {
   "cell_type": "code",
   "execution_count": 1,
   "metadata": {},
   "outputs": [
    {
     "name": "stderr",
     "output_type": "stream",
     "text": [
      "/Users/cedoz/anaconda3/lib/python3.6/importlib/_bootstrap.py:219: RuntimeWarning: compiletime version 3.5 of module 'tensorflow.python.framework.fast_tensor_util' does not match runtime version 3.6\n",
      "  return f(*args, **kwds)\n"
     ]
    },
    {
     "name": "stdout",
     "output_type": "stream",
     "text": [
      "Segmentation samples saved to output/\n"
     ]
    }
   ],
   "source": [
    "from config import Config\n",
    "from model import Model\n",
    "from utils.preprocess import get_data\n",
    "from utils.plot import plot_segmentation\n",
    "\n",
    "\n",
    "if __name__ == \"__main__\":\n",
    "    \n",
    "    # Part 1:\n",
    "    #Get the images and corresponding labels\n",
    "    images, labels = get_data()\n",
    "    #Plot 3 samples to check the segmentation\n",
    "    plot_segmentation(images, labels, nb_samples=3)\n",
    "    \n",
    "    # Part 2:\n",
    "    #Load the parameters\n",
    "    config = Config()\n",
    "    #Build a model (only the data loading is implemented: shuffling+batch)\n",
    "    model = Model(config, images, labels)\n",
    "    #Creates a list of np.array for each batch\n",
    "    batches = model.get_train_batches()\n",
    "\n",
    "    #Shape verification\n",
    "    for batch in batches:\n",
    "        print(batch[0].shape)\n",
    "        print(batch[1].shape)"
   ]
  },
  {
   "cell_type": "code",
   "execution_count": null,
   "metadata": {
    "collapsed": true
   },
   "outputs": [],
   "source": []
  }
 ],
 "metadata": {
  "kernelspec": {
   "display_name": "Python 3",
   "language": "python",
   "name": "python3"
  },
  "language_info": {
   "codemirror_mode": {
    "name": "ipython",
    "version": 3
   },
   "file_extension": ".py",
   "mimetype": "text/x-python",
   "name": "python",
   "nbconvert_exporter": "python",
   "pygments_lexer": "ipython3",
   "version": "3.6.3"
  }
 },
 "nbformat": 4,
 "nbformat_minor": 2
}
